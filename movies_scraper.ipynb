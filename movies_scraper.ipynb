{
 "cells": [
  {
   "cell_type": "code",
   "execution_count": 1,
   "metadata": {},
   "outputs": [
    {
     "name": "stdout",
     "output_type": "stream",
     "text": [
      "Requirement already satisfied: pandas in c:\\users\\user\\anaconda3\\lib\\site-packages (0.25.1)\n",
      "Requirement already satisfied: numpy>=1.13.3 in c:\\users\\user\\anaconda3\\lib\\site-packages (from pandas) (1.16.5)\n",
      "Requirement already satisfied: pytz>=2017.2 in c:\\users\\user\\anaconda3\\lib\\site-packages (from pandas) (2019.3)\n",
      "Requirement already satisfied: python-dateutil>=2.6.1 in c:\\users\\user\\anaconda3\\lib\\site-packages (from pandas) (2.8.0)\n",
      "Requirement already satisfied: six>=1.5 in c:\\users\\user\\appdata\\roaming\\python\\python37\\site-packages (from python-dateutil>=2.6.1->pandas) (1.12.0)\n",
      "Requirement already satisfied: numpy in c:\\users\\user\\anaconda3\\lib\\site-packages (1.16.5)\n",
      "Requirement already satisfied: bs4 in c:\\users\\user\\anaconda3\\lib\\site-packages (0.0.1)\n",
      "Requirement already satisfied: beautifulsoup4 in c:\\users\\user\\anaconda3\\lib\\site-packages (from bs4) (4.8.0)\n",
      "Requirement already satisfied: soupsieve>=1.2 in c:\\users\\user\\anaconda3\\lib\\site-packages (from beautifulsoup4->bs4) (1.9.3)\n",
      "Requirement already satisfied: requests in c:\\users\\user\\anaconda3\\lib\\site-packages (2.22.0)\n",
      "Requirement already satisfied: certifi>=2017.4.17 in c:\\users\\user\\anaconda3\\lib\\site-packages (from requests) (2019.9.11)\n",
      "Requirement already satisfied: chardet<3.1.0,>=3.0.2 in c:\\users\\user\\anaconda3\\lib\\site-packages (from requests) (3.0.4)\n",
      "Requirement already satisfied: urllib3!=1.25.0,!=1.25.1,<1.26,>=1.21.1 in c:\\users\\user\\anaconda3\\lib\\site-packages (from requests) (1.24.2)\n",
      "Requirement already satisfied: idna<2.9,>=2.5 in c:\\users\\user\\anaconda3\\lib\\site-packages (from requests) (2.8)\n"
     ]
    }
   ],
   "source": [
    "# #install all these libraries\n",
    "# !pip install pandas\n",
    "# !pip install numpy\n",
    "# !pip install bs4\n",
    "# !pip install requests\n",
    "\n",
    "\n",
    "# link to imdb website https://www.imdb.com/search/title/?groups=top_1000&ref_=adv_prv"
   ]
  },
  {
   "cell_type": "code",
   "execution_count": 2,
   "metadata": {},
   "outputs": [],
   "source": [
    "#import the libraries\n",
    "import requests\n",
    "from requests import get\n",
    "import pandas as pd\n",
    "import numpy as np\n",
    "from bs4 import BeautifulSoup\n",
    "\n",
    "from time import sleep\n",
    "from random import randint"
   ]
  },
  {
   "cell_type": "code",
   "execution_count": 3,
   "metadata": {},
   "outputs": [],
   "source": [
    "headers = {\"Accept Language\":\"en-US, en;q=0.5\"}"
   ]
  },
  {
   "cell_type": "code",
   "execution_count": 4,
   "metadata": {},
   "outputs": [],
   "source": [
    "pages=np.arange(1,1001,50)"
   ]
  },
  {
   "cell_type": "code",
   "execution_count": 10,
   "metadata": {},
   "outputs": [],
   "source": [
    "# initialize empty lists to store data\n",
    "title=[]\n",
    "years=[]\n",
    "time=[]\n",
    "imdb_ratings=[]\n",
    "meta_scores=[]\n",
    "us_votes=[]\n",
    "us_gross=[]\n",
    "descript=[]"
   ]
  },
  {
   "cell_type": "code",
   "execution_count": 11,
   "metadata": {},
   "outputs": [],
   "source": [
    "for page in pages:\n",
    "    page = requests.get(\"https://www.imdb.com/search/title/?groups=top_1000&start=\" + str(page) + \"&ref_=adv_nxt\", headers=headers)\n",
    "    soup = BeautifulSoup(page.text,\"html.parser\")\n",
    "    movie_div = soup.find_all('div',class_='lister-item mode-advanced')\n",
    "#     sleep(randint(2,5))\n",
    "    for container in movie_div:\n",
    "        name = container.h3.a.text\n",
    "        title.append(name)\n",
    "        year = container.h3.find('span',class_='lister-item-year').text\n",
    "        years.append(year)\n",
    "        runtime = container.p.find('span',class_='runtime').text if container.p.find('span',class_='runtime') else '-'\n",
    "        time.append(runtime)\n",
    "        rating = float(container.strong.text)\n",
    "        imdb_ratings.append(rating)\n",
    "        meta = container.find('span',class_='metascore').text if container.find('span',class_='metascore') else '-' \n",
    "        meta_scores.append(meta)\n",
    "        nv = container.find_all('span',attrs={'name':'nv'})\n",
    "        vote=nv[0].text\n",
    "        us_votes.append(vote)\n",
    "        gross = nv[1].text if len(nv) > 1 else '-'\n",
    "        us_gross.append(gross)"
   ]
  },
  {
   "cell_type": "code",
   "execution_count": 54,
   "metadata": {},
   "outputs": [
    {
     "name": "stdout",
     "output_type": "stream",
     "text": [
      "\n",
      "U\n",
      "|\n",
      "160 min\n",
      "|\n",
      "\n",
      "Crime, Drama, Thriller            \n",
      "\n"
     ]
    }
   ],
   "source": [
    "# movie_div = soup.find_all('div',class_='lister-item mode-advanced')\n",
    "for container in movie_div:\n",
    "    description=container.find('p',class_='text-muted').text\n",
    "\n",
    "# for string in description.stripped_strings:\n",
    "#     print(repr(string))\n",
    "print(description)\n"
   ]
  },
  {
   "cell_type": "code",
   "execution_count": 9,
   "metadata": {},
   "outputs": [
    {
     "ename": "AttributeError",
     "evalue": "'str' object has no attribute 'append'",
     "output_type": "error",
     "traceback": [
      "\u001b[1;31m---------------------------------------------------------------------------\u001b[0m",
      "\u001b[1;31mAttributeError\u001b[0m                            Traceback (most recent call last)",
      "\u001b[1;32m<ipython-input-9-ee8bb691017e>\u001b[0m in \u001b[0;36m<module>\u001b[1;34m\u001b[0m\n\u001b[1;32m----> 1\u001b[1;33m \u001b[0mdescription\u001b[0m\u001b[1;33m.\u001b[0m\u001b[0mappend\u001b[0m\u001b[1;33m(\u001b[0m\u001b[0mdescription\u001b[0m\u001b[1;33m)\u001b[0m\u001b[1;33m\u001b[0m\u001b[1;33m\u001b[0m\u001b[0m\n\u001b[0m",
      "\u001b[1;31mAttributeError\u001b[0m: 'str' object has no attribute 'append'"
     ]
    }
   ],
   "source": [
    "description.append(description)"
   ]
  },
  {
   "cell_type": "code",
   "execution_count": null,
   "metadata": {},
   "outputs": [],
   "source": [
    "print(descrip)"
   ]
  },
  {
   "cell_type": "code",
   "execution_count": null,
   "metadata": {},
   "outputs": [],
   "source": [
    "movies = pd.DataFrame({\n",
    "'movie':title,\n",
    "'year':year,\n",
    "'length':time,\n",
    "'imdb_ratings':imdb_ratings,\n",
    "'meta_score':meta_scores,\n",
    "'votes':us_votes,\n",
    "'us_gross_in_millions':us_gross,\n",
    "'description':descrip\n",
    "})"
   ]
  },
  {
   "cell_type": "code",
   "execution_count": null,
   "metadata": {},
   "outputs": [],
   "source": [
    "print(movies)"
   ]
  },
  {
   "cell_type": "code",
   "execution_count": null,
   "metadata": {},
   "outputs": [],
   "source": [
    "movies['year']=movies['year'].str.extract('(\\d+)').astype(int)\n",
    "movies['length'] = movies['length'].str.extract('(\\d+)').astype(int)\n",
    "movies['imdb_ratings']=movies['imdb_ratings'].astype(int)\n",
    "movies['meta_score']=pd.to_numeric(movies['meta_score'],errors='coerce')\n",
    "movies['votes']=movies['votes'].str.replace(',','').astype(int)\n",
    "movies['us_gross_in_millions']=movies['us_gross_in_millions'].map(lambda x: x.lstrip('$').rstrip('M'))\n",
    "movies['us_gross_in_millions']=pd.to_numeric(movies['us_gross_in_millions'],errors='coerce')"
   ]
  },
  {
   "cell_type": "code",
   "execution_count": null,
   "metadata": {},
   "outputs": [],
   "source": [
    "print(movies.isnull().sum())\n"
   ]
  },
  {
   "cell_type": "code",
   "execution_count": null,
   "metadata": {},
   "outputs": [],
   "source": [
    "# movies.metascore = movies.metascore.fillna(\"None Given\")\n",
    "# movies.us_grossMillions = movies.us_grossMillions.fillna(\"\")\n",
    "\n",
    "# print(movies['metascore'])\n",
    "# print(movies['us_grossMillions'])"
   ]
  },
  {
   "cell_type": "code",
   "execution_count": null,
   "metadata": {},
   "outputs": [],
   "source": [
    "movies.to_csv('movies.csv')"
   ]
  },
  {
   "cell_type": "code",
   "execution_count": null,
   "metadata": {},
   "outputs": [],
   "source": []
  }
 ],
 "metadata": {
  "kernelspec": {
   "display_name": "Python 3",
   "language": "python",
   "name": "python3"
  },
  "language_info": {
   "codemirror_mode": {
    "name": "ipython",
    "version": 3
   },
   "file_extension": ".py",
   "mimetype": "text/x-python",
   "name": "python",
   "nbconvert_exporter": "python",
   "pygments_lexer": "ipython3",
   "version": "3.7.4"
  }
 },
 "nbformat": 4,
 "nbformat_minor": 2
}
